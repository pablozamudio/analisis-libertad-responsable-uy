{
 "cells": [
  {
   "cell_type": "code",
   "execution_count": 1,
   "metadata": {},
   "outputs": [
    {
     "name": "stdout",
     "output_type": "stream",
     "text": [
      "Requirement already satisfied: pysentimiento in ./.venv/lib/python3.8/site-packages (0.5.2)\n",
      "Requirement already satisfied: torch in ./.venv/lib/python3.8/site-packages (from pysentimiento) (1.13.1)\n",
      "Requirement already satisfied: emoji<2.0.0,>=1.6.1 in ./.venv/lib/python3.8/site-packages (from pysentimiento) (1.7.0)\n",
      "Requirement already satisfied: datasets>=1.13.3 in ./.venv/lib/python3.8/site-packages (from pysentimiento) (2.7.1)\n",
      "Requirement already satisfied: transformers>=4.13.0 in ./.venv/lib/python3.8/site-packages (from pysentimiento) (4.25.1)\n",
      "Requirement already satisfied: numpy>=1.17 in ./.venv/lib/python3.8/site-packages (from datasets>=1.13.3->pysentimiento) (1.23.5)\n",
      "Requirement already satisfied: multiprocess in ./.venv/lib/python3.8/site-packages (from datasets>=1.13.3->pysentimiento) (0.70.14)\n",
      "Requirement already satisfied: pyyaml>=5.1 in ./.venv/lib/python3.8/site-packages (from datasets>=1.13.3->pysentimiento) (6.0)\n",
      "Requirement already satisfied: fsspec[http]>=2021.11.1 in ./.venv/lib/python3.8/site-packages (from datasets>=1.13.3->pysentimiento) (2022.11.0)\n",
      "Requirement already satisfied: requests>=2.19.0 in ./.venv/lib/python3.8/site-packages (from datasets>=1.13.3->pysentimiento) (2.28.1)\n",
      "Requirement already satisfied: dill<0.3.7 in ./.venv/lib/python3.8/site-packages (from datasets>=1.13.3->pysentimiento) (0.3.6)\n",
      "Requirement already satisfied: aiohttp in ./.venv/lib/python3.8/site-packages (from datasets>=1.13.3->pysentimiento) (3.8.3)\n",
      "Requirement already satisfied: pandas in ./.venv/lib/python3.8/site-packages (from datasets>=1.13.3->pysentimiento) (1.5.2)\n",
      "Requirement already satisfied: packaging in ./.venv/lib/python3.8/site-packages (from datasets>=1.13.3->pysentimiento) (22.0)\n",
      "Requirement already satisfied: pyarrow>=6.0.0 in ./.venv/lib/python3.8/site-packages (from datasets>=1.13.3->pysentimiento) (10.0.1)\n",
      "Requirement already satisfied: tqdm>=4.62.1 in ./.venv/lib/python3.8/site-packages (from datasets>=1.13.3->pysentimiento) (4.64.1)\n",
      "Requirement already satisfied: responses<0.19 in ./.venv/lib/python3.8/site-packages (from datasets>=1.13.3->pysentimiento) (0.18.0)\n",
      "Requirement already satisfied: xxhash in ./.venv/lib/python3.8/site-packages (from datasets>=1.13.3->pysentimiento) (3.1.0)\n",
      "Requirement already satisfied: huggingface-hub<1.0.0,>=0.2.0 in ./.venv/lib/python3.8/site-packages (from datasets>=1.13.3->pysentimiento) (0.11.1)\n",
      "Requirement already satisfied: regex!=2019.12.17 in ./.venv/lib/python3.8/site-packages (from transformers>=4.13.0->pysentimiento) (2022.10.31)\n",
      "Requirement already satisfied: tokenizers!=0.11.3,<0.14,>=0.11.1 in ./.venv/lib/python3.8/site-packages (from transformers>=4.13.0->pysentimiento) (0.13.2)\n",
      "Requirement already satisfied: filelock in ./.venv/lib/python3.8/site-packages (from transformers>=4.13.0->pysentimiento) (3.8.2)\n",
      "Requirement already satisfied: typing-extensions in ./.venv/lib/python3.8/site-packages (from torch->pysentimiento) (4.4.0)\n",
      "Requirement already satisfied: attrs>=17.3.0 in ./.venv/lib/python3.8/site-packages (from aiohttp->datasets>=1.13.3->pysentimiento) (22.1.0)\n",
      "Requirement already satisfied: multidict<7.0,>=4.5 in ./.venv/lib/python3.8/site-packages (from aiohttp->datasets>=1.13.3->pysentimiento) (6.0.3)\n",
      "Requirement already satisfied: async-timeout<5.0,>=4.0.0a3 in ./.venv/lib/python3.8/site-packages (from aiohttp->datasets>=1.13.3->pysentimiento) (4.0.2)\n",
      "Requirement already satisfied: charset-normalizer<3.0,>=2.0 in ./.venv/lib/python3.8/site-packages (from aiohttp->datasets>=1.13.3->pysentimiento) (2.1.1)\n",
      "Requirement already satisfied: frozenlist>=1.1.1 in ./.venv/lib/python3.8/site-packages (from aiohttp->datasets>=1.13.3->pysentimiento) (1.3.3)\n",
      "Requirement already satisfied: aiosignal>=1.1.2 in ./.venv/lib/python3.8/site-packages (from aiohttp->datasets>=1.13.3->pysentimiento) (1.3.1)\n",
      "Requirement already satisfied: yarl<2.0,>=1.0 in ./.venv/lib/python3.8/site-packages (from aiohttp->datasets>=1.13.3->pysentimiento) (1.8.2)\n",
      "Requirement already satisfied: certifi>=2017.4.17 in ./.venv/lib/python3.8/site-packages (from requests>=2.19.0->datasets>=1.13.3->pysentimiento) (2022.12.7)\n",
      "Requirement already satisfied: idna<4,>=2.5 in ./.venv/lib/python3.8/site-packages (from requests>=2.19.0->datasets>=1.13.3->pysentimiento) (3.4)\n",
      "Requirement already satisfied: urllib3<1.27,>=1.21.1 in ./.venv/lib/python3.8/site-packages (from requests>=2.19.0->datasets>=1.13.3->pysentimiento) (1.26.13)\n",
      "Requirement already satisfied: python-dateutil>=2.8.1 in ./.venv/lib/python3.8/site-packages (from pandas->datasets>=1.13.3->pysentimiento) (2.8.2)\n",
      "Requirement already satisfied: pytz>=2020.1 in ./.venv/lib/python3.8/site-packages (from pandas->datasets>=1.13.3->pysentimiento) (2022.6)\n",
      "Requirement already satisfied: six>=1.5 in ./.venv/lib/python3.8/site-packages (from python-dateutil>=2.8.1->pandas->datasets>=1.13.3->pysentimiento) (1.16.0)\n",
      "\u001b[33mWARNING: You are using pip version 22.0.4; however, version 22.3.1 is available.\n",
      "You should consider upgrading via the '/Users/pzamudio/devel/analisis-libertad-responsable-uy/.venv/bin/python -m pip install --upgrade pip' command.\u001b[0m\u001b[33m\n",
      "\u001b[0mRequirement already satisfied: pandas in ./.venv/lib/python3.8/site-packages (1.5.2)\n",
      "Requirement already satisfied: numpy>=1.20.3 in ./.venv/lib/python3.8/site-packages (from pandas) (1.23.5)\n",
      "Requirement already satisfied: pytz>=2020.1 in ./.venv/lib/python3.8/site-packages (from pandas) (2022.6)\n",
      "Requirement already satisfied: python-dateutil>=2.8.1 in ./.venv/lib/python3.8/site-packages (from pandas) (2.8.2)\n",
      "Requirement already satisfied: six>=1.5 in ./.venv/lib/python3.8/site-packages (from python-dateutil>=2.8.1->pandas) (1.16.0)\n",
      "\u001b[33mWARNING: You are using pip version 22.0.4; however, version 22.3.1 is available.\n",
      "You should consider upgrading via the '/Users/pzamudio/devel/analisis-libertad-responsable-uy/.venv/bin/python -m pip install --upgrade pip' command.\u001b[0m\u001b[33m\n",
      "\u001b[0m"
     ]
    }
   ],
   "source": [
    "!pip install pysentimiento\n",
    "!pip install pandas"
   ]
  },
  {
   "cell_type": "code",
   "execution_count": 2,
   "metadata": {},
   "outputs": [
    {
     "name": "stderr",
     "output_type": "stream",
     "text": [
      "/Users/pzamudio/devel/analisis-libertad-responsable-uy/.venv/lib/python3.8/site-packages/tqdm/auto.py:22: TqdmWarning: IProgress not found. Please update jupyter and ipywidgets. See https://ipywidgets.readthedocs.io/en/stable/user_install.html\n",
      "  from .autonotebook import tqdm as notebook_tqdm\n"
     ]
    }
   ],
   "source": [
    "import pandas as pd\n",
    "from collections import Counter\n",
    "from pysentimiento import create_analyzer"
   ]
  },
  {
   "cell_type": "markdown",
   "metadata": {},
   "source": [
    "# Data checks"
   ]
  },
  {
   "cell_type": "code",
   "execution_count": 3,
   "metadata": {},
   "outputs": [
    {
     "data": {
      "text/html": [
       "<div>\n",
       "<style scoped>\n",
       "    .dataframe tbody tr th:only-of-type {\n",
       "        vertical-align: middle;\n",
       "    }\n",
       "\n",
       "    .dataframe tbody tr th {\n",
       "        vertical-align: top;\n",
       "    }\n",
       "\n",
       "    .dataframe thead th {\n",
       "        text-align: right;\n",
       "    }\n",
       "</style>\n",
       "<table border=\"1\" class=\"dataframe\">\n",
       "  <thead>\n",
       "    <tr style=\"text-align: right;\">\n",
       "      <th></th>\n",
       "      <th>0</th>\n",
       "    </tr>\n",
       "  </thead>\n",
       "  <tbody>\n",
       "    <tr>\n",
       "      <th>id</th>\n",
       "      <td>1395409435347009537</td>\n",
       "    </tr>\n",
       "    <tr>\n",
       "      <th>conversation_id</th>\n",
       "      <td>1395409435347009537</td>\n",
       "    </tr>\n",
       "    <tr>\n",
       "      <th>created_at</th>\n",
       "      <td>2021-05-20 13:01:49 -03</td>\n",
       "    </tr>\n",
       "    <tr>\n",
       "      <th>date</th>\n",
       "      <td>2021-05-20</td>\n",
       "    </tr>\n",
       "    <tr>\n",
       "      <th>time</th>\n",
       "      <td>13:01:49</td>\n",
       "    </tr>\n",
       "    <tr>\n",
       "      <th>timezone</th>\n",
       "      <td>-300</td>\n",
       "    </tr>\n",
       "    <tr>\n",
       "      <th>user_id</th>\n",
       "      <td>921390373</td>\n",
       "    </tr>\n",
       "    <tr>\n",
       "      <th>username</th>\n",
       "      <td>icomem_oficial</td>\n",
       "    </tr>\n",
       "    <tr>\n",
       "      <th>name</th>\n",
       "      <td>ICOMEM</td>\n",
       "    </tr>\n",
       "    <tr>\n",
       "      <th>place</th>\n",
       "      <td>NaN</td>\n",
       "    </tr>\n",
       "    <tr>\n",
       "      <th>tweet</th>\n",
       "      <td>Desde ICOMEM hacemos un llamamiento a la respo...</td>\n",
       "    </tr>\n",
       "    <tr>\n",
       "      <th>language</th>\n",
       "      <td>es</td>\n",
       "    </tr>\n",
       "    <tr>\n",
       "      <th>mentions</th>\n",
       "      <td>[]</td>\n",
       "    </tr>\n",
       "    <tr>\n",
       "      <th>urls</th>\n",
       "      <td>[]</td>\n",
       "    </tr>\n",
       "    <tr>\n",
       "      <th>photos</th>\n",
       "      <td>[]</td>\n",
       "    </tr>\n",
       "    <tr>\n",
       "      <th>replies_count</th>\n",
       "      <td>0</td>\n",
       "    </tr>\n",
       "    <tr>\n",
       "      <th>retweets_count</th>\n",
       "      <td>3</td>\n",
       "    </tr>\n",
       "    <tr>\n",
       "      <th>likes_count</th>\n",
       "      <td>3</td>\n",
       "    </tr>\n",
       "    <tr>\n",
       "      <th>hashtags</th>\n",
       "      <td>['libertadresponsable', 'concabeza']</td>\n",
       "    </tr>\n",
       "    <tr>\n",
       "      <th>cashtags</th>\n",
       "      <td>[]</td>\n",
       "    </tr>\n",
       "    <tr>\n",
       "      <th>link</th>\n",
       "      <td>https://twitter.com/Icomem_Oficial/status/1395...</td>\n",
       "    </tr>\n",
       "    <tr>\n",
       "      <th>retweet</th>\n",
       "      <td>NaN</td>\n",
       "    </tr>\n",
       "    <tr>\n",
       "      <th>quote_url</th>\n",
       "      <td>NaN</td>\n",
       "    </tr>\n",
       "    <tr>\n",
       "      <th>video</th>\n",
       "      <td>1</td>\n",
       "    </tr>\n",
       "    <tr>\n",
       "      <th>thumbnail</th>\n",
       "      <td>https://pbs.twimg.com/ext_tw_video_thumb/13954...</td>\n",
       "    </tr>\n",
       "    <tr>\n",
       "      <th>near</th>\n",
       "      <td>NaN</td>\n",
       "    </tr>\n",
       "    <tr>\n",
       "      <th>geo</th>\n",
       "      <td>NaN</td>\n",
       "    </tr>\n",
       "    <tr>\n",
       "      <th>source</th>\n",
       "      <td>NaN</td>\n",
       "    </tr>\n",
       "    <tr>\n",
       "      <th>user_rt_id</th>\n",
       "      <td>NaN</td>\n",
       "    </tr>\n",
       "    <tr>\n",
       "      <th>user_rt</th>\n",
       "      <td>NaN</td>\n",
       "    </tr>\n",
       "    <tr>\n",
       "      <th>retweet_id</th>\n",
       "      <td>NaN</td>\n",
       "    </tr>\n",
       "    <tr>\n",
       "      <th>reply_to</th>\n",
       "      <td>{'user_id': None, 'username': None}</td>\n",
       "    </tr>\n",
       "    <tr>\n",
       "      <th>retweet_date</th>\n",
       "      <td>NaN</td>\n",
       "    </tr>\n",
       "    <tr>\n",
       "      <th>translate</th>\n",
       "      <td>NaN</td>\n",
       "    </tr>\n",
       "    <tr>\n",
       "      <th>trans_src</th>\n",
       "      <td>NaN</td>\n",
       "    </tr>\n",
       "    <tr>\n",
       "      <th>trans_dest</th>\n",
       "      <td>NaN</td>\n",
       "    </tr>\n",
       "  </tbody>\n",
       "</table>\n",
       "</div>"
      ],
      "text/plain": [
       "                                                                 0\n",
       "id                                             1395409435347009537\n",
       "conversation_id                                1395409435347009537\n",
       "created_at                                 2021-05-20 13:01:49 -03\n",
       "date                                                    2021-05-20\n",
       "time                                                      13:01:49\n",
       "timezone                                                      -300\n",
       "user_id                                                  921390373\n",
       "username                                            icomem_oficial\n",
       "name                                                        ICOMEM\n",
       "place                                                          NaN\n",
       "tweet            Desde ICOMEM hacemos un llamamiento a la respo...\n",
       "language                                                        es\n",
       "mentions                                                        []\n",
       "urls                                                            []\n",
       "photos                                                          []\n",
       "replies_count                                                    0\n",
       "retweets_count                                                   3\n",
       "likes_count                                                      3\n",
       "hashtags                      ['libertadresponsable', 'concabeza']\n",
       "cashtags                                                        []\n",
       "link             https://twitter.com/Icomem_Oficial/status/1395...\n",
       "retweet                                                        NaN\n",
       "quote_url                                                      NaN\n",
       "video                                                            1\n",
       "thumbnail        https://pbs.twimg.com/ext_tw_video_thumb/13954...\n",
       "near                                                           NaN\n",
       "geo                                                            NaN\n",
       "source                                                         NaN\n",
       "user_rt_id                                                     NaN\n",
       "user_rt                                                        NaN\n",
       "retweet_id                                                     NaN\n",
       "reply_to                       {'user_id': None, 'username': None}\n",
       "retweet_date                                                   NaN\n",
       "translate                                                      NaN\n",
       "trans_src                                                      NaN\n",
       "trans_dest                                                     NaN"
      ]
     },
     "execution_count": 3,
     "metadata": {},
     "output_type": "execute_result"
    }
   ],
   "source": [
    "df = pd.read_csv(\"data/inputs/tweets_libertad_responsable.csv\")\n",
    "df.head(1).T"
   ]
  },
  {
   "cell_type": "code",
   "execution_count": 4,
   "metadata": {},
   "outputs": [
    {
     "data": {
      "text/plain": [
       "'Desde ICOMEM hacemos un llamamiento a la responsabilidad. \\n\\nSon días de disfrutar del fútbol pero nunca sin olvidar el sentido común. \\nEstamos cerca de volver a disfrutar del fútbol con toda la pasión pero de momento hagámoslo con cabeza. \\n\\n#LibertadResponsable #ConCabeza https://t.co/k9Q800L6yn'"
      ]
     },
     "execution_count": 4,
     "metadata": {},
     "output_type": "execute_result"
    }
   ],
   "source": [
    "df.tweet[0]"
   ]
  },
  {
   "cell_type": "markdown",
   "metadata": {},
   "source": [
    "# Sentiment Analyzer"
   ]
  },
  {
   "cell_type": "code",
   "execution_count": 5,
   "metadata": {},
   "outputs": [
    {
     "name": "stderr",
     "output_type": "stream",
     "text": [
      "100%|██████████| 18/18 [00:00<00:00, 205.32ba/s]\n",
      "The following columns in the test set don't have a corresponding argument in `RobertaForSequenceClassification.forward` and have been ignored: text. If text are not expected by `RobertaForSequenceClassification.forward`,  you can safely ignore this message.\n",
      "***** Running Prediction *****\n",
      "  Num examples = 548\n",
      "  Batch size = 32\n",
      "You're using a PreTrainedTokenizerFast tokenizer. Please note that with a fast tokenizer, using the `__call__` method is faster than using a method to encode the text followed by a call to the `pad` method to get a padded encoding.\n",
      "100%|██████████| 18/18 [01:23<00:00,  4.66s/it]\n"
     ]
    },
    {
     "data": {
      "text/plain": [
       "Counter({'NEU': 312, 'NEG': 201, 'POS': 35})"
      ]
     },
     "execution_count": 5,
     "metadata": {},
     "output_type": "execute_result"
    }
   ],
   "source": [
    "# run analyzer\n",
    "sentiment_analyzer = create_analyzer(task=\"sentiment\", lang=\"es\")\n",
    "results_sentiment = sentiment_analyzer.predict(df.tweet)\n",
    "\n",
    "Counter([r.output for r in results_sentiment])"
   ]
  },
  {
   "cell_type": "markdown",
   "metadata": {},
   "source": [
    "# Emotion Analyzer"
   ]
  },
  {
   "cell_type": "code",
   "execution_count": 6,
   "metadata": {},
   "outputs": [
    {
     "name": "stderr",
     "output_type": "stream",
     "text": [
      "loading configuration file config.json from cache at /Users/pzamudio/.cache/huggingface/hub/models--pysentimiento--robertuito-emotion-analysis/snapshots/2a1fb82f525912c23a8187eeea418751049d5056/config.json\n",
      "Model config RobertaConfig {\n",
      "  \"_name_or_path\": \"pysentimiento/robertuito-emotion-analysis\",\n",
      "  \"architectures\": [\n",
      "    \"RobertaForSequenceClassification\"\n",
      "  ],\n",
      "  \"attention_probs_dropout_prob\": 0.1,\n",
      "  \"bos_token_id\": 0,\n",
      "  \"classifier_dropout\": null,\n",
      "  \"eos_token_id\": 2,\n",
      "  \"gradient_checkpointing\": false,\n",
      "  \"hidden_act\": \"gelu\",\n",
      "  \"hidden_dropout_prob\": 0.1,\n",
      "  \"hidden_size\": 768,\n",
      "  \"id2label\": {\n",
      "    \"0\": \"others\",\n",
      "    \"1\": \"joy\",\n",
      "    \"2\": \"sadness\",\n",
      "    \"3\": \"anger\",\n",
      "    \"4\": \"surprise\",\n",
      "    \"5\": \"disgust\",\n",
      "    \"6\": \"fear\"\n",
      "  },\n",
      "  \"initializer_range\": 0.02,\n",
      "  \"intermediate_size\": 3072,\n",
      "  \"label2id\": {\n",
      "    \"anger\": 3,\n",
      "    \"disgust\": 5,\n",
      "    \"fear\": 6,\n",
      "    \"joy\": 1,\n",
      "    \"others\": 0,\n",
      "    \"sadness\": 2,\n",
      "    \"surprise\": 4\n",
      "  },\n",
      "  \"layer_norm_eps\": 1e-12,\n",
      "  \"max_position_embeddings\": 130,\n",
      "  \"model_type\": \"roberta\",\n",
      "  \"num_attention_heads\": 12,\n",
      "  \"num_hidden_layers\": 12,\n",
      "  \"pad_token_id\": 1,\n",
      "  \"position_embedding_type\": \"absolute\",\n",
      "  \"problem_type\": \"single_label_classification\",\n",
      "  \"torch_dtype\": \"float32\",\n",
      "  \"transformers_version\": \"4.25.1\",\n",
      "  \"type_vocab_size\": 1,\n",
      "  \"use_cache\": true,\n",
      "  \"vocab_size\": 30002\n",
      "}\n",
      "\n",
      "loading weights file pytorch_model.bin from cache at /Users/pzamudio/.cache/huggingface/hub/models--pysentimiento--robertuito-emotion-analysis/snapshots/2a1fb82f525912c23a8187eeea418751049d5056/pytorch_model.bin\n",
      "All model checkpoint weights were used when initializing RobertaForSequenceClassification.\n",
      "\n",
      "All the weights of RobertaForSequenceClassification were initialized from the model checkpoint at pysentimiento/robertuito-emotion-analysis.\n",
      "If your task is similar to the task the model of the checkpoint was trained on, you can already use RobertaForSequenceClassification for predictions without further training.\n",
      "loading file tokenizer.json from cache at /Users/pzamudio/.cache/huggingface/hub/models--pysentimiento--robertuito-emotion-analysis/snapshots/2a1fb82f525912c23a8187eeea418751049d5056/tokenizer.json\n",
      "loading file added_tokens.json from cache at None\n",
      "loading file special_tokens_map.json from cache at /Users/pzamudio/.cache/huggingface/hub/models--pysentimiento--robertuito-emotion-analysis/snapshots/2a1fb82f525912c23a8187eeea418751049d5056/special_tokens_map.json\n",
      "loading file tokenizer_config.json from cache at /Users/pzamudio/.cache/huggingface/hub/models--pysentimiento--robertuito-emotion-analysis/snapshots/2a1fb82f525912c23a8187eeea418751049d5056/tokenizer_config.json\n",
      "PyTorch: setting up devices\n",
      "The default value for the training argument `--report_to` will change in v5 (from all installed integrations to none). In v5, you will need to use `--report_to all` to get the same behavior as now. You should start updating your code and make this info disappear :-).\n",
      "100%|██████████| 18/18 [00:00<00:00, 245.34ba/s]\n",
      "The following columns in the test set don't have a corresponding argument in `RobertaForSequenceClassification.forward` and have been ignored: text. If text are not expected by `RobertaForSequenceClassification.forward`,  you can safely ignore this message.\n",
      "***** Running Prediction *****\n",
      "  Num examples = 548\n",
      "  Batch size = 32\n",
      "You're using a PreTrainedTokenizerFast tokenizer. Please note that with a fast tokenizer, using the `__call__` method is faster than using a method to encode the text followed by a call to the `pad` method to get a padded encoding.\n",
      "100%|██████████| 18/18 [01:42<00:00,  5.70s/it]\n"
     ]
    },
    {
     "data": {
      "text/plain": [
       "Counter({'others': 361, 'joy': 69, 'anger': 108, 'sadness': 9, 'fear': 1})"
      ]
     },
     "execution_count": 6,
     "metadata": {},
     "output_type": "execute_result"
    }
   ],
   "source": [
    "emotion_analyzer = create_analyzer(task=\"emotion\", lang=\"es\")\n",
    "results_emotion = emotion_analyzer.predict(df.tweet)\n",
    "\n",
    "Counter([r.output for r in results_emotion])"
   ]
  },
  {
   "cell_type": "markdown",
   "metadata": {},
   "source": [
    "# Save results"
   ]
  },
  {
   "cell_type": "code",
   "execution_count": 7,
   "metadata": {},
   "outputs": [
    {
     "data": {
      "text/plain": [
       "AnalyzerOutput(output=NEU, probas={NEU: 0.769, POS: 0.226, NEG: 0.005})"
      ]
     },
     "execution_count": 7,
     "metadata": {},
     "output_type": "execute_result"
    }
   ],
   "source": [
    "results_sentiment[0]"
   ]
  },
  {
   "cell_type": "code",
   "execution_count": 9,
   "metadata": {},
   "outputs": [
    {
     "data": {
      "text/html": [
       "<div>\n",
       "<style scoped>\n",
       "    .dataframe tbody tr th:only-of-type {\n",
       "        vertical-align: middle;\n",
       "    }\n",
       "\n",
       "    .dataframe tbody tr th {\n",
       "        vertical-align: top;\n",
       "    }\n",
       "\n",
       "    .dataframe thead th {\n",
       "        text-align: right;\n",
       "    }\n",
       "</style>\n",
       "<table border=\"1\" class=\"dataframe\">\n",
       "  <thead>\n",
       "    <tr style=\"text-align: right;\">\n",
       "      <th></th>\n",
       "      <th>tweet</th>\n",
       "      <th>sentiment</th>\n",
       "      <th>emotion</th>\n",
       "    </tr>\n",
       "  </thead>\n",
       "  <tbody>\n",
       "    <tr>\n",
       "      <th>0</th>\n",
       "      <td>Desde ICOMEM hacemos un llamamiento a la respo...</td>\n",
       "      <td>NEU</td>\n",
       "      <td>others</td>\n",
       "    </tr>\n",
       "    <tr>\n",
       "      <th>1</th>\n",
       "      <td>@LuisLacallePou @MatiasBarreto_ @AlfieIsaac #U...</td>\n",
       "      <td>NEU</td>\n",
       "      <td>others</td>\n",
       "    </tr>\n",
       "    <tr>\n",
       "      <th>2</th>\n",
       "      <td>🌿🇺🇾✨#Uruguay de vacuna 💉,muchas gracias al gob...</td>\n",
       "      <td>NEU</td>\n",
       "      <td>joy</td>\n",
       "    </tr>\n",
       "    <tr>\n",
       "      <th>3</th>\n",
       "      <td>Siempre tendremos aquellos con la “viveza crio...</td>\n",
       "      <td>NEG</td>\n",
       "      <td>anger</td>\n",
       "    </tr>\n",
       "    <tr>\n",
       "      <th>4</th>\n",
       "      <td>Regresaron a #Uruguay los niños de la calle #l...</td>\n",
       "      <td>NEG</td>\n",
       "      <td>others</td>\n",
       "    </tr>\n",
       "    <tr>\n",
       "      <th>5</th>\n",
       "      <td>Mi ciudad, #Florida , esta conmovida:hoy hubo ...</td>\n",
       "      <td>NEU</td>\n",
       "      <td>sadness</td>\n",
       "    </tr>\n",
       "    <tr>\n",
       "      <th>6</th>\n",
       "      <td>Como sanitarios de “segunda” no podemos aproba...</td>\n",
       "      <td>NEG</td>\n",
       "      <td>joy</td>\n",
       "    </tr>\n",
       "    <tr>\n",
       "      <th>7</th>\n",
       "      <td>@_nosoyelena Deje de salir señora y no tendrá ...</td>\n",
       "      <td>NEG</td>\n",
       "      <td>others</td>\n",
       "    </tr>\n",
       "    <tr>\n",
       "      <th>8</th>\n",
       "      <td>Lo mismo de siempre.  La perrada no entiende q...</td>\n",
       "      <td>NEG</td>\n",
       "      <td>anger</td>\n",
       "    </tr>\n",
       "    <tr>\n",
       "      <th>9</th>\n",
       "      <td>@UNESCO_es @ONU_es @pnud @opsoms @WHO @JoeBide...</td>\n",
       "      <td>NEU</td>\n",
       "      <td>joy</td>\n",
       "    </tr>\n",
       "  </tbody>\n",
       "</table>\n",
       "</div>"
      ],
      "text/plain": [
       "                                               tweet sentiment  emotion\n",
       "0  Desde ICOMEM hacemos un llamamiento a la respo...       NEU   others\n",
       "1  @LuisLacallePou @MatiasBarreto_ @AlfieIsaac #U...       NEU   others\n",
       "2  🌿🇺🇾✨#Uruguay de vacuna 💉,muchas gracias al gob...       NEU      joy\n",
       "3  Siempre tendremos aquellos con la “viveza crio...       NEG    anger\n",
       "4  Regresaron a #Uruguay los niños de la calle #l...       NEG   others\n",
       "5  Mi ciudad, #Florida , esta conmovida:hoy hubo ...       NEU  sadness\n",
       "6  Como sanitarios de “segunda” no podemos aproba...       NEG      joy\n",
       "7  @_nosoyelena Deje de salir señora y no tendrá ...       NEG   others\n",
       "8  Lo mismo de siempre.  La perrada no entiende q...       NEG    anger\n",
       "9  @UNESCO_es @ONU_es @pnud @opsoms @WHO @JoeBide...       NEU      joy"
      ]
     },
     "execution_count": 9,
     "metadata": {},
     "output_type": "execute_result"
    }
   ],
   "source": [
    "df_results = df.copy()\n",
    "\n",
    "df_results['sentiment'] = [r.output for r in results_sentiment]\n",
    "df_results['sentiment_probs'] = [r.probas for r in results_sentiment]\n",
    "\n",
    "df_results['emotion'] = [r.output for r in results_emotion]\n",
    "df_results['emotion_probs'] = [r.probas for r in results_emotion]\n",
    "\n",
    "df_results[['tweet', 'sentiment', 'emotion']].head(10)\n"
   ]
  },
  {
   "cell_type": "code",
   "execution_count": 10,
   "metadata": {},
   "outputs": [],
   "source": [
    "df_results.to_csv(\"data/outputs/tweets_libertad_responsable_analysis.csv\", index=False)"
   ]
  },
  {
   "cell_type": "code",
   "execution_count": null,
   "metadata": {},
   "outputs": [],
   "source": []
  }
 ],
 "metadata": {
  "kernelspec": {
   "display_name": "Python 3.8.13 ('.venv': venv)",
   "language": "python",
   "name": "python3"
  },
  "language_info": {
   "codemirror_mode": {
    "name": "ipython",
    "version": 3
   },
   "file_extension": ".py",
   "mimetype": "text/x-python",
   "name": "python",
   "nbconvert_exporter": "python",
   "pygments_lexer": "ipython3",
   "version": "3.8.13"
  },
  "orig_nbformat": 4,
  "vscode": {
   "interpreter": {
    "hash": "6238a5233b55546990eb1d6e6d73f6b94c066fbab6a2ab109b41eda2e8497d7c"
   }
  }
 },
 "nbformat": 4,
 "nbformat_minor": 2
}
